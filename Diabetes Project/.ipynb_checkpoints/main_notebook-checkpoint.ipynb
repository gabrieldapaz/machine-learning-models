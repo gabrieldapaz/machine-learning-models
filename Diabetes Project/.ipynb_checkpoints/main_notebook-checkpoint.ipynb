{
 "cells": [
  {
   "cell_type": "code",
   "execution_count": 1,
   "metadata": {},
   "outputs": [],
   "source": [
    "import pandas as pd\n",
    "import numpy as np\n",
    "import matplotlib.pyplot as plt\n",
    "import seaborn as sns"
   ]
  },
  {
   "cell_type": "code",
   "execution_count": null,
   "metadata": {},
   "outputs": [],
   "source": [
    "df = pd.read_csv('diabetic_data.csv')"
   ]
  },
  {
   "cell_type": "code",
   "execution_count": null,
   "metadata": {},
   "outputs": [],
   "source": [
    "df.replace('?', np.nan, inplace=True)"
   ]
  },
  {
   "cell_type": "code",
   "execution_count": null,
   "metadata": {},
   "outputs": [],
   "source": [
    "col = df.columns\n",
    "for obj in col:\n",
    "    if ((df[obj].isnull().sum()) > 2000):\n",
    "        df = df.drop(obj, axis=1)\n"
   ]
  },
  {
   "cell_type": "code",
   "execution_count": null,
   "metadata": {},
   "outputs": [],
   "source": [
    "#tirando campos de ID que não são necessários\n",
    "df = df.drop(['encounter_id','patient_nbr','admission_type_id','discharge_disposition_id','admission_source_id'],axis=1)\n"
   ]
  },
  {
   "cell_type": "code",
   "execution_count": null,
   "metadata": {},
   "outputs": [],
   "source": [
    "df.dropna(inplace=True)\n",
    "df=df[df['gender']!='Unknown/Invalid']"
   ]
  },
  {
   "cell_type": "code",
   "execution_count": null,
   "metadata": {},
   "outputs": [],
   "source": [
    "condition = df['readmitted']!='NO'\n",
    "df['readmitted'] = np.where(condition,1,0)"
   ]
  },
  {
   "cell_type": "code",
   "execution_count": null,
   "metadata": {},
   "outputs": [],
   "source": [
    "diag_cols = ['diag_1','diag_2','diag_3']\n",
    "for col in diag_cols:\n",
    "    df[col] = df[col].str.replace('E','-')\n",
    "    df[col] = df[col].str.replace('V','-')\n",
    "    condition = df[col].str.contains('250')\n",
    "    df.loc[condition,col] = '250'\n",
    "\n",
    "df[diag_cols] = df[diag_cols].astype(float)\n",
    "\n",
    "# diagnosis grouping\n",
    "for col in diag_cols:\n",
    "    df['temp']=np.nan\n",
    "    \n",
    "    condition = df[col]==250\n",
    "    df.loc[condition,'temp']='Diabetes'\n",
    "    \n",
    "    condition = (df[col]>=390) & (df[col]<=458) | (df[col]==785)\n",
    "    df.loc[condition,'temp']='Circulatory'\n",
    "    \n",
    "    condition = (df[col]>=460) & (df[col]<=519) | (df[col]==786)\n",
    "    df.loc[condition,'temp']='Respiratory'\n",
    "    \n",
    "    condition = (df[col]>=520) & (df[col]<=579) | (df[col]==787)\n",
    "    df.loc[condition,'temp']='Digestive'\n",
    "    \n",
    "    condition = (df[col]>=580) & (df[col]<=629) | (df[col]==788)\n",
    "    df.loc[condition,'temp']='Genitourinary'\n",
    "    \n",
    "    condition = (df[col]>=800) & (df[col]<=999)\n",
    "    df.loc[condition,'temp']='Injury'\n",
    "    \n",
    "    condition = (df[col]>=710) & (df[col]<=739)\n",
    "    df.loc[condition,'temp']='Muscoloskeletal'\n",
    "    \n",
    "    condition = (df[col]>=140) & (df[col]<=239)\n",
    "    df.loc[condition,'temp']='Neoplasms'\n",
    "    \n",
    "    condition = df[col]==0\n",
    "    df.loc[condition,col]='?'\n",
    "    df['temp']=df['temp'].fillna('Others')\n",
    "    condition = df['temp']=='0'\n",
    "    df.loc[condition,'temp']=np.nan\n",
    "    df[col]=df['temp']\n",
    "    df.drop('temp',axis=1,inplace=True)\n",
    "\n",
    "df.dropna(inplace=True)"
   ]
  },
  {
   "cell_type": "code",
   "execution_count": null,
   "metadata": {},
   "outputs": [],
   "source": [
    "cat_cols = list(df.select_dtypes('object').columns)\n",
    "for col in cat_cols:\n",
    "    df = pd.concat([df.drop(col, axis=1), pd.get_dummies(df[col])], axis=1)"
   ]
  },
  {
   "cell_type": "code",
   "execution_count": null,
   "metadata": {},
   "outputs": [],
   "source": [
    "test = df.columns"
   ]
  },
  {
   "cell_type": "code",
   "execution_count": null,
   "metadata": {},
   "outputs": [],
   "source": [
    "pd.set_option('display.max_columns', 2500)"
   ]
  },
  {
   "cell_type": "code",
   "execution_count": null,
   "metadata": {},
   "outputs": [],
   "source": [
    "from sklearn import preprocessing\n",
    "\n",
    "x = df.values\n",
    "min_max_scaler = preprocessing.MinMaxScaler()\n",
    "x_scaled = min_max_scaler.fit_transform(x)\n",
    "df = pd.DataFrame(x_scaled)"
   ]
  },
  {
   "cell_type": "code",
   "execution_count": null,
   "metadata": {},
   "outputs": [],
   "source": [
    "df.columns = test"
   ]
  },
  {
   "cell_type": "code",
   "execution_count": null,
   "metadata": {},
   "outputs": [],
   "source": [
    "from sklearn.model_selection import train_test_split\n",
    "from sklearn.ensemble import RandomForestClassifier\n",
    "from sklearn.neural_network import MLPClassifier\n",
    "from sklearn.metrics import accuracy_score"
   ]
  },
  {
   "cell_type": "code",
   "execution_count": null,
   "metadata": {},
   "outputs": [],
   "source": [
    "X_train, X_test, y_train, y_test = train_test_split(df.drop('readmitted', axis=1), df['readmitted'], test_size=0.3, random_state=2)\n",
    "\n",
    "X_train.shape, X_test.shape\n",
    "\n",
    "result = []\n",
    "\n",
    "rf = RandomForestClassifier(n_estimators=100, random_state=0)\n",
    "rf = rf.fit(X_train, y_train)\n",
    "pred_rf = rf.predict(X_test)\n",
    "\n",
    "result.append(['RF',accuracy_score(y_test, pred_rf)])"
   ]
  },
  {
   "cell_type": "code",
   "execution_count": null,
   "metadata": {},
   "outputs": [],
   "source": [
    "X_train, X_test, y_train, y_test = train_test_split(df.drop('readmitted', axis=1), df['readmitted'], test_size=0.3, random_state=2)\n",
    "\n",
    "X_train.shape, X_test.shape\n",
    "\n",
    "mlp = MLPClassifier([100]*5, early_stopping=True, learning_rate='adaptive',random_state=0)\n",
    "mlp = mlp.fit(X_train, y_train)\n",
    "pred_mlp = mlp.predict(X_test)\n",
    "\n",
    "result.append(['MLP', accuracy_score(y_test, pred_mlp)])"
   ]
  },
  {
   "cell_type": "code",
   "execution_count": null,
   "metadata": {},
   "outputs": [],
   "source": [
    "result = pd.DataFrame(result, columns=['Name', 'Accuracy'])\n",
    "result = result.reset_index()\n",
    "result"
   ]
  },
  {
   "cell_type": "code",
   "execution_count": null,
   "metadata": {},
   "outputs": [],
   "source": [
    "X_train, X_test, y_train, y_test = train_test_split(df.drop('readmitted', axis=1), df['readmitted'], test_size=0.3, random_state=2)\n",
    "\n",
    "X_train.shape, X_test.shape"
   ]
  }
 ],
 "metadata": {
  "kernelspec": {
   "display_name": "Python 3",
   "language": "python",
   "name": "python3"
  },
  "language_info": {
   "codemirror_mode": {
    "name": "ipython",
    "version": 3
   },
   "file_extension": ".py",
   "mimetype": "text/x-python",
   "name": "python",
   "nbconvert_exporter": "python",
   "pygments_lexer": "ipython3",
   "version": "3.7.1"
  }
 },
 "nbformat": 4,
 "nbformat_minor": 2
}
