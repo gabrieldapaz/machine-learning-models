{
 "cells": [
  {
   "cell_type": "code",
   "execution_count": 1,
   "metadata": {},
   "outputs": [],
   "source": [
    "import pandas as pd\n",
    "import numpy as np\n",
    "import matplotlib.pyplot as plt\n",
    "import seaborn as sns"
   ]
  },
  {
   "cell_type": "code",
   "execution_count": 2,
   "metadata": {},
   "outputs": [],
   "source": [
    "df = pd.read_csv('diabetic_data.csv')"
   ]
  },
  {
   "cell_type": "code",
   "execution_count": 3,
   "metadata": {},
   "outputs": [],
   "source": [
    "df.replace('?', np.nan, inplace=True)"
   ]
  },
  {
   "cell_type": "code",
   "execution_count": 4,
   "metadata": {},
   "outputs": [],
   "source": [
    "col = df.columns\n",
    "for obj in col:\n",
    "    if ((df[obj].isnull().sum()) > 2000):\n",
    "        df = df.drop(obj, axis=1)\n"
   ]
  },
  {
   "cell_type": "code",
   "execution_count": 5,
   "metadata": {},
   "outputs": [],
   "source": [
    "#tirando campos de ID que não são necessários\n",
    "df = df.drop(['encounter_id','patient_nbr','admission_type_id','discharge_disposition_id','admission_source_id'],axis=1)\n"
   ]
  },
  {
   "cell_type": "code",
   "execution_count": 6,
   "metadata": {},
   "outputs": [],
   "source": [
    "df.dropna(inplace=True)\n",
    "df=df[df['gender']!='Unknown/Invalid']"
   ]
  },
  {
   "cell_type": "code",
   "execution_count": 7,
   "metadata": {},
   "outputs": [],
   "source": [
    "condition = df['readmitted']!='NO'\n",
    "df['readmitted'] = np.where(condition,1,0)"
   ]
  },
  {
   "cell_type": "code",
   "execution_count": 8,
   "metadata": {},
   "outputs": [],
   "source": [
    "diag_cols = ['diag_1','diag_2','diag_3']\n",
    "for col in diag_cols:\n",
    "    df[col] = df[col].str.replace('E','-')\n",
    "    df[col] = df[col].str.replace('V','-')\n",
    "    condition = df[col].str.contains('250')\n",
    "    df.loc[condition,col] = '250'\n",
    "\n",
    "df[diag_cols] = df[diag_cols].astype(float)\n",
    "\n",
    "# diagnosis grouping\n",
    "for col in diag_cols:\n",
    "    df['temp']=np.nan\n",
    "    \n",
    "    condition = df[col]==250\n",
    "    df.loc[condition,'temp']='Diabetes'\n",
    "    \n",
    "    condition = (df[col]>=390) & (df[col]<=458) | (df[col]==785)\n",
    "    df.loc[condition,'temp']='Circulatory'\n",
    "    \n",
    "    condition = (df[col]>=460) & (df[col]<=519) | (df[col]==786)\n",
    "    df.loc[condition,'temp']='Respiratory'\n",
    "    \n",
    "    condition = (df[col]>=520) & (df[col]<=579) | (df[col]==787)\n",
    "    df.loc[condition,'temp']='Digestive'\n",
    "    \n",
    "    condition = (df[col]>=580) & (df[col]<=629) | (df[col]==788)\n",
    "    df.loc[condition,'temp']='Genitourinary'\n",
    "    \n",
    "    condition = (df[col]>=800) & (df[col]<=999)\n",
    "    df.loc[condition,'temp']='Injury'\n",
    "    \n",
    "    condition = (df[col]>=710) & (df[col]<=739)\n",
    "    df.loc[condition,'temp']='Muscoloskeletal'\n",
    "    \n",
    "    condition = (df[col]>=140) & (df[col]<=239)\n",
    "    df.loc[condition,'temp']='Neoplasms'\n",
    "    \n",
    "    condition = df[col]==0\n",
    "    df.loc[condition,col]='?'\n",
    "    df['temp']=df['temp'].fillna('Others')\n",
    "    condition = df['temp']=='0'\n",
    "    df.loc[condition,'temp']=np.nan\n",
    "    df[col]=df['temp']\n",
    "    df.drop('temp',axis=1,inplace=True)\n",
    "\n",
    "df.dropna(inplace=True)"
   ]
  },
  {
   "cell_type": "code",
   "execution_count": 9,
   "metadata": {},
   "outputs": [],
   "source": [
    "cat_cols = list(df.select_dtypes('object').columns)\n",
    "for col in cat_cols:\n",
    "    df = pd.concat([df.drop(col, axis=1), pd.get_dummies(df[col])], axis=1)"
   ]
  },
  {
   "cell_type": "code",
   "execution_count": 10,
   "metadata": {},
   "outputs": [],
   "source": [
    "test = df.columns"
   ]
  },
  {
   "cell_type": "code",
   "execution_count": 11,
   "metadata": {},
   "outputs": [],
   "source": [
    "pd.set_option('display.max_columns', 2500)"
   ]
  },
  {
   "cell_type": "code",
   "execution_count": 12,
   "metadata": {},
   "outputs": [
    {
     "name": "stderr",
     "output_type": "stream",
     "text": [
      "C:\\Users\\Gabriel\\Anaconda3\\lib\\site-packages\\sklearn\\utils\\validation.py:595: DataConversionWarning: Data with input dtype int64 was converted to float64 by MinMaxScaler.\n",
      "  warnings.warn(msg, DataConversionWarning)\n"
     ]
    }
   ],
   "source": [
    "from sklearn import preprocessing\n",
    "\n",
    "x = df.values\n",
    "min_max_scaler = preprocessing.MinMaxScaler()\n",
    "x_scaled = min_max_scaler.fit_transform(x)\n",
    "df = pd.DataFrame(x_scaled)"
   ]
  },
  {
   "cell_type": "code",
   "execution_count": 16,
   "metadata": {},
   "outputs": [],
   "source": [
    "df.columns = test"
   ]
  },
  {
   "cell_type": "code",
   "execution_count": 17,
   "metadata": {},
   "outputs": [],
   "source": [
    "from sklearn.model_selection import train_test_split\n",
    "from sklearn.ensemble import RandomForestClassifier\n",
    "from sklearn.neural_network import MLPClassifier\n",
    "from sklearn.metrics import accuracy_score"
   ]
  },
  {
   "cell_type": "code",
   "execution_count": 18,
   "metadata": {},
   "outputs": [],
   "source": [
    "X_train, X_test, y_train, y_test = train_test_split(df.drop('readmitted', axis=1), df['readmitted'], test_size=0.3, random_state=2)\n",
    "\n",
    "X_train.shape, X_test.shape\n",
    "\n",
    "result = []\n",
    "\n",
    "rf = RandomForestClassifier(n_estimators=100, random_state=0)\n",
    "rf = rf.fit(X_train, y_train)\n",
    "pred_rf = rf.predict(X_test)\n",
    "\n",
    "result.append(['RF',accuracy_score(y_test, pred_rf)])"
   ]
  },
  {
   "cell_type": "code",
   "execution_count": 19,
   "metadata": {},
   "outputs": [],
   "source": [
    "X_train, X_test, y_train, y_test = train_test_split(df.drop('readmitted', axis=1), df['readmitted'], test_size=0.3, random_state=2)\n",
    "\n",
    "X_train.shape, X_test.shape\n",
    "\n",
    "mlp = MLPClassifier([100]*5, early_stopping=True, learning_rate='adaptive',random_state=0)\n",
    "mlp = mlp.fit(X_train, y_train)\n",
    "pred_mlp = mlp.predict(X_test)\n",
    "\n",
    "result.append(['MLP', accuracy_score(y_test, pred_mlp)])"
   ]
  },
  {
   "cell_type": "code",
   "execution_count": 20,
   "metadata": {},
   "outputs": [
    {
     "data": {
      "text/html": [
       "<div>\n",
       "<style scoped>\n",
       "    .dataframe tbody tr th:only-of-type {\n",
       "        vertical-align: middle;\n",
       "    }\n",
       "\n",
       "    .dataframe tbody tr th {\n",
       "        vertical-align: top;\n",
       "    }\n",
       "\n",
       "    .dataframe thead th {\n",
       "        text-align: right;\n",
       "    }\n",
       "</style>\n",
       "<table border=\"1\" class=\"dataframe\">\n",
       "  <thead>\n",
       "    <tr style=\"text-align: right;\">\n",
       "      <th></th>\n",
       "      <th>index</th>\n",
       "      <th>Name</th>\n",
       "      <th>Accuracy</th>\n",
       "    </tr>\n",
       "  </thead>\n",
       "  <tbody>\n",
       "    <tr>\n",
       "      <th>0</th>\n",
       "      <td>0</td>\n",
       "      <td>RF</td>\n",
       "      <td>0.61364</td>\n",
       "    </tr>\n",
       "    <tr>\n",
       "      <th>1</th>\n",
       "      <td>1</td>\n",
       "      <td>MLP</td>\n",
       "      <td>0.61793</td>\n",
       "    </tr>\n",
       "  </tbody>\n",
       "</table>\n",
       "</div>"
      ],
      "text/plain": [
       "   index Name  Accuracy\n",
       "0      0   RF   0.61364\n",
       "1      1  MLP   0.61793"
      ]
     },
     "execution_count": 20,
     "metadata": {},
     "output_type": "execute_result"
    }
   ],
   "source": [
    "result = pd.DataFrame(result, columns=['Name', 'Accuracy'])\n",
    "result = result.reset_index()\n",
    "result"
   ]
  },
  {
   "cell_type": "code",
   "execution_count": null,
   "metadata": {},
   "outputs": [],
   "source": []
  }
 ],
 "metadata": {
  "kernelspec": {
   "display_name": "Python 3",
   "language": "python",
   "name": "python3"
  },
  "language_info": {
   "codemirror_mode": {
    "name": "ipython",
    "version": 3
   },
   "file_extension": ".py",
   "mimetype": "text/x-python",
   "name": "python",
   "nbconvert_exporter": "python",
   "pygments_lexer": "ipython3",
   "version": "3.7.1"
  }
 },
 "nbformat": 4,
 "nbformat_minor": 2
}
